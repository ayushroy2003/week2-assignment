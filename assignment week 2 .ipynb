{
 "cells": [
  {
   "cell_type": "markdown",
   "id": "9406790a-3241-4a28-bb8d-610289b8b6b9",
   "metadata": {},
   "source": [
    "Q1. How do you comment code in Python? What are the different types of comments?\n",
    "\n",
    "Ans - In python  we use # symbol to create comment or we can use ## symbol to create comment \n",
    "\n",
    "there are two main types of comment \n",
    "\n",
    "1 - single line comment for single line comment we use # symbol\n",
    "\n",
    "2 - multiline comment for multi line comment they enclosed in triple quote (''') or (\"\"\")\n",
    "\n"
   ]
  },
  {
   "cell_type": "markdown",
   "id": "086f03a6-5579-4b7c-8122-e38f6273b746",
   "metadata": {},
   "source": [
    "\n",
    "Q2. What are variables in Python? How do you declare and assign values to variables?\n",
    "\n",
    "Ans- In python, variable are used to store data values. they act as named container that hold values or information that can be used manipulated and refernenced throughout program\n",
    "\n",
    "To declare and assign values to variable in python we use assignment operator(=)\n",
    " for example"
   ]
  },
  {
   "cell_type": "code",
   "execution_count": 1,
   "id": "0aae9582-0492-4fc8-b6dc-6c83aa48647a",
   "metadata": {},
   "outputs": [],
   "source": [
    "#example\n",
    "name = \"ayush\"\n",
    "age = 20\n"
   ]
  },
  {
   "cell_type": "markdown",
   "id": "6b5cbbcc-d6a6-455e-b39a-0b69724ce156",
   "metadata": {},
   "source": [
    "Q3  - How do you convert one data type to another in Python?\n",
    "\n",
    "ANS - We convert one data type to another data type using conversion funtion and also called typecasting\n",
    " int(), float(), str() \n",
    " \n",
    "example "
   ]
  },
  {
   "cell_type": "code",
   "execution_count": 3,
   "id": "d216c6b6-7ba0-43a0-9f90-e904b201405d",
   "metadata": {},
   "outputs": [],
   "source": [
    "num = \"10\""
   ]
  },
  {
   "cell_type": "code",
   "execution_count": 5,
   "id": "ee5c43c3-3d32-4a5f-9a60-da6fcf49835d",
   "metadata": {},
   "outputs": [
    {
     "data": {
      "text/plain": [
       "10"
      ]
     },
     "execution_count": 5,
     "metadata": {},
     "output_type": "execute_result"
    }
   ],
   "source": [
    "# converting string into integer\n",
    "int(num)"
   ]
  },
  {
   "cell_type": "code",
   "execution_count": 6,
   "id": "c97ab26c-df87-4545-bdf1-8d1e5f39b78e",
   "metadata": {},
   "outputs": [
    {
     "data": {
      "text/plain": [
       "10.0"
      ]
     },
     "execution_count": 6,
     "metadata": {},
     "output_type": "execute_result"
    }
   ],
   "source": [
    "#converting integer into float\n",
    "float(num)"
   ]
  },
  {
   "cell_type": "markdown",
   "id": "7d106818-0c55-410f-b994-3035cece9128",
   "metadata": {},
   "source": [
    "Q4- How do you write and execute a Python script from the command line?\n",
    "\n",
    "ANS- To write and execute a Python script from the command line, follow these steps:\n",
    "\n",
    "1- Open a Text Editor:\n",
    "Use a text editor of your choice (such as Notepad, Visual Studio Code, Sublime Text, etc.) to write your Python code.\n",
    "\n",
    "2- Write Your Python Code:\n",
    "Write your Python code in the text editor. Save the file with a .py extension, which indicates that it's a Python script.\n",
    "\n",
    "For example, create a file named myscript.py with the following content:\n",
    "\n",
    "3- Open the Command Line:\n",
    "On Windows, you can use the Command Prompt or PowerShell. On macOS and Linux, you can use the Terminal.\n",
    "\n",
    "4- Navigate to the Script Directory:\n",
    "Use the cd command to navigate to the directory where your Python script is saved. For example\n",
    "\n",
    "5- Execute the Python Script:\n",
    "To execute the Python script, simply type python followed by the name of the script file. Press Enter.\n"
   ]
  },
  {
   "cell_type": "markdown",
   "id": "4bc8e667-b6f2-40c2-be9a-c2dd52d31af1",
   "metadata": {},
   "source": [
    "Q5- Given a list my_list = [1, 2, 3, 4, 5], write the code to slice the list and obtain the sub-list [2, 3]\n",
    "\n",
    "ANS- "
   ]
  },
  {
   "cell_type": "code",
   "execution_count": 1,
   "id": "3aa81975-9761-4123-8eef-d6d51382e679",
   "metadata": {},
   "outputs": [],
   "source": [
    "my_list = [1,2,3,4,5]"
   ]
  },
  {
   "cell_type": "code",
   "execution_count": 8,
   "id": "6e2e3dc9-ebc3-40c8-81fe-a41101851ce7",
   "metadata": {},
   "outputs": [],
   "source": [
    "sub_list = my_list[1:3] "
   ]
  },
  {
   "cell_type": "code",
   "execution_count": 9,
   "id": "e3e0a7d2-314d-450e-971b-de827220e7a0",
   "metadata": {},
   "outputs": [
    {
     "name": "stdout",
     "output_type": "stream",
     "text": [
      "[2, 3]\n"
     ]
    }
   ],
   "source": [
    "print(sub_list)"
   ]
  },
  {
   "cell_type": "markdown",
   "id": "245076af-43c4-4091-8bdd-31d04c3f221f",
   "metadata": {},
   "source": [
    "Q6- What is a complex number in mathematics, and how is it represented in Python?\n",
    "\n",
    "ANS- In mathematics, a complex number is a number that comprises both a real part and an imaginary part. It's represented in the form a + bi, where a is the real part, b is the imaginary part, and i is the imaginary unit (which is defined as the square root of -1). Complex numbers allow for the representation of quantities that involve both real and imaginary components, and they find applications in various fields, including engineering, physics, and signal processing.\n",
    "\n",
    "In Python, complex numbers are represented using the complex data type. The imaginary unit i in Python is represented by j. Here's how you can create and work with complex numbers in Python: "
   ]
  },
  {
   "cell_type": "code",
   "execution_count": 10,
   "id": "5be840c6-c388-4630-ad51-e79eb24c6181",
   "metadata": {},
   "outputs": [],
   "source": [
    "# Creating complex numbers\n",
    "z1 = 3 + 4j       # 3 is the real part, 4 is the imaginary part\n",
    "z2 = complex(2, -1)  # Using the complex() constructor"
   ]
  },
  {
   "cell_type": "markdown",
   "id": "623dab1d-103f-49bf-9c44-0f8b398961bd",
   "metadata": {},
   "source": [
    "Q7- What is the correct way to declare a variable named age and assign the value 25 to it?\n",
    "\n",
    "ANS- "
   ]
  },
  {
   "cell_type": "code",
   "execution_count": 11,
   "id": "3e6be9c6-16e1-4900-9689-6efde677d9ed",
   "metadata": {},
   "outputs": [],
   "source": [
    "age = 25"
   ]
  },
  {
   "cell_type": "markdown",
   "id": "0b676b47-8171-4552-b5e4-039c2f2a0a30",
   "metadata": {},
   "source": [
    "Q8- Declare a variable named price and assign the value 9.99 to it. What data type does this variable\n",
    "belong to?\n",
    "\n",
    "ANS- float"
   ]
  },
  {
   "cell_type": "code",
   "execution_count": 12,
   "id": "d7c99b8b-7b90-4469-a016-39a3dddf3cdd",
   "metadata": {},
   "outputs": [],
   "source": [
    "price = 9.99"
   ]
  },
  {
   "cell_type": "code",
   "execution_count": 13,
   "id": "41f50ae8-5c0f-437d-9d35-da8af454ec74",
   "metadata": {},
   "outputs": [
    {
     "data": {
      "text/plain": [
       "float"
      ]
     },
     "execution_count": 13,
     "metadata": {},
     "output_type": "execute_result"
    }
   ],
   "source": [
    "type(price)"
   ]
  },
  {
   "cell_type": "markdown",
   "id": "822c3f5c-51e3-4f61-9777-b6493330968e",
   "metadata": {},
   "source": [
    "Q9- Create a variable named name and assign your full name to it as a string. How would you print the\n",
    "value of this variable?\n",
    "\n",
    "ANS- "
   ]
  },
  {
   "cell_type": "code",
   "execution_count": 14,
   "id": "a9f89894-1de4-4255-aad9-8ec0f44dd269",
   "metadata": {},
   "outputs": [],
   "source": [
    "name = \"ayush kumar\""
   ]
  },
  {
   "cell_type": "code",
   "execution_count": 15,
   "id": "c442ec40-c689-47b6-9bd0-0730fe678471",
   "metadata": {},
   "outputs": [
    {
     "name": "stdout",
     "output_type": "stream",
     "text": [
      "ayush kumar\n"
     ]
    }
   ],
   "source": [
    "print(name)"
   ]
  },
  {
   "cell_type": "markdown",
   "id": "ec38d16c-e642-485b-b564-56cab9a5d0f6",
   "metadata": {},
   "source": [
    "Q10- Given the string \"Hello, World!\", extract the substring \"World\".\n",
    "\n",
    "ANS-\n",
    "we can use string slicing\n"
   ]
  },
  {
   "cell_type": "code",
   "execution_count": 16,
   "id": "b0879b3b-17ea-4437-8a61-7b7e228c4bda",
   "metadata": {},
   "outputs": [],
   "source": [
    "original_str =\"Hello, World!\""
   ]
  },
  {
   "cell_type": "code",
   "execution_count": 19,
   "id": "e58789c2-b026-4005-8145-6f8e3eae85e7",
   "metadata": {},
   "outputs": [],
   "source": [
    "substring = original_str[7:12]"
   ]
  },
  {
   "cell_type": "code",
   "execution_count": 20,
   "id": "c4035362-e4a6-448d-829c-751084b55cd0",
   "metadata": {},
   "outputs": [
    {
     "name": "stdout",
     "output_type": "stream",
     "text": [
      "World\n"
     ]
    }
   ],
   "source": [
    "print(substring)"
   ]
  },
  {
   "cell_type": "markdown",
   "id": "3ce8aa20-d6a4-4b93-888b-da6e1170a21e",
   "metadata": {},
   "source": [
    "Q11- Create a variable named \"is_student\" and assign it a boolean value indicating whether you are\n",
    "currently a student or not.\n",
    "\n",
    "ANS - is_student and assign it a boolean value:"
   ]
  },
  {
   "cell_type": "code",
   "execution_count": 21,
   "id": "a7501bbb-44cb-465c-87cd-6453329c3220",
   "metadata": {},
   "outputs": [],
   "source": [
    "is_student = True"
   ]
  },
  {
   "cell_type": "code",
   "execution_count": 22,
   "id": "a1cbdb4d-4512-4d76-8886-a378518e85d7",
   "metadata": {},
   "outputs": [
    {
     "data": {
      "text/plain": [
       "bool"
      ]
     },
     "execution_count": 22,
     "metadata": {},
     "output_type": "execute_result"
    }
   ],
   "source": [
    "type(is_student)"
   ]
  },
  {
   "cell_type": "code",
   "execution_count": null,
   "id": "179bbca0-029a-4ff7-9228-cfb74d8d159e",
   "metadata": {},
   "outputs": [],
   "source": []
  }
 ],
 "metadata": {
  "kernelspec": {
   "display_name": "Python 3 (ipykernel)",
   "language": "python",
   "name": "python3"
  },
  "language_info": {
   "codemirror_mode": {
    "name": "ipython",
    "version": 3
   },
   "file_extension": ".py",
   "mimetype": "text/x-python",
   "name": "python",
   "nbconvert_exporter": "python",
   "pygments_lexer": "ipython3",
   "version": "3.10.8"
  }
 },
 "nbformat": 4,
 "nbformat_minor": 5
}
